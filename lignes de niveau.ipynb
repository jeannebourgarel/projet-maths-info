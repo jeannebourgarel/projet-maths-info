{
 "cells": [
  {
   "cell_type": "markdown",
   "metadata": {},
   "source": [
    "# Projet numérique : lignes de niveau"
   ]
  },
  {
   "cell_type": "code",
   "execution_count": 4,
   "metadata": {},
   "outputs": [],
   "source": [
    "import autograd\n",
    "import matplotlib.pyplot as plt\n",
    "from autograd import numpy as np"
   ]
  },
  {
   "cell_type": "code",
   "execution_count": 2,
   "metadata": {},
   "outputs": [],
   "source": [
    "def h(x, y) :\n",
    "    return (np.exp(-(x**2)-(y**2))-np.exp(-((x-1)**2)-((y-1)**2)))  \n",
    "# h est une fonction de deux variables réelles à valeurs réelles, continûment différentiable"
   ]
  },
  {
   "cell_type": "code",
   "execution_count": 12,
   "metadata": {},
   "outputs": [],
   "source": [
    "def f(x, y) :\n",
    "    return x**2 + y**2 - 0.5"
   ]
  },
  {
   "cell_type": "markdown",
   "metadata": {},
   "source": [
    "## Contour simple"
   ]
  },
  {
   "cell_type": "markdown",
   "metadata": {},
   "source": [
    "### Amorce"
   ]
  },
  {
   "cell_type": "markdown",
   "metadata": {},
   "source": [
    "$f$ est supposée continûment différentiable, donc continue sur $[0,1]^2$. Si $f(0,0) \\leqslant c \\leqslant f(0,1)$ ou $f(0,1) \\leqslant c \\leqslant f(0,0)$, alors d'après le théorème des valeurs intermédiairs on est certain que $\\exists  t \\in [0,1]$ tel que $f(0,t) = c$."
   ]
  },
  {
   "cell_type": "code",
   "execution_count": 3,
   "metadata": {},
   "outputs": [],
   "source": [
    "def find_seed(f, c=0.0, eps = 2**(-26)) : # renvoie un flottant éloigné d'au plus eps d'un tel t ou None si la condition ci-dessus n'est pas satisfaite\n",
    "    if f(0, 0) <= c <= f(0, 1) or f(0,1) <= c <= f(0, 0) :\n",
    "        a = 0\n",
    "        b = 1\n",
    "        for n in range(26) :\n",
    "            m = (a + b)/2\n",
    "            if f(0, a) <= c <= f(0, b) :\n",
    "                if f(0,m) > c :\n",
    "                    b = m\n",
    "                elif f(0, m) == c :\n",
    "                    return m\n",
    "                else :\n",
    "                    a = m\n",
    "            else :\n",
    "                if f(0,m) > c :\n",
    "                    a = m\n",
    "                elif f(0, m) == c :\n",
    "                    return m\n",
    "                else :\n",
    "                    b = m\n",
    "        return m\n",
    "    else :\n",
    "        return None"
   ]
  },
  {
   "cell_type": "markdown",
   "metadata": {},
   "source": [
    "### Propagation"
   ]
  },
  {
   "cell_type": "markdown",
   "metadata": {},
   "source": [
    "#### Première méthode"
   ]
  },
  {
   "cell_type": "markdown",
   "metadata": {},
   "source": [
    "On suppose en plus des hypothèses précédentes que la fonction $f$ dont on veut tracer les lignes de niveau vérifie les hypothèses du théorème des fonctions implicites, c'est-à-dire dans ce cas que la dérivée partielle de $f$ par rapport à la deuxième variable est inversible sur tout le domaine étudié.\n",
    "Il existe alors une fonction $\\psi$ telle que $f(x,y) = c \\Leftrightarrow y = \\psi(x)$\n",
    "Autrement dit, tracer la ligne de niveau $f(x, y) = c$, c'est tracer le graphe de $\\psi$."
   ]
  },
  {
   "cell_type": "markdown",
   "metadata": {},
   "source": [
    "Si on connaît le point $(x, \\psi(x))$, on veut obtenir le point suivant $(x+h, \\psi(x+h))$.\n",
    "A l'ordre 1, on a $\\psi(x+h) = \\psi(x) + h\\psi'(x) + o(h)$  \n",
    "où d'après le théorème des fonctions implicites $\\psi'(x) = -\\frac{\\frac{\\partial f}{\\partial x}(x, \\psi(x))}{\\frac{\\partial f}{\\partial y}(x, \\psi(x))}$"
   ]
  },
  {
   "cell_type": "markdown",
   "metadata": {},
   "source": [
    "De plus, la distance entre $(x,\\psi(x))$ et $(x+h,\\psi(x+h))$ doit être de l'ordre de $\\delta$.  \n",
    "Autrement dit $\\sqrt{h^2 +(\\psi(x+h) - \\psi(x))^2}=\\delta$  \n",
    "Or $\\psi(x+h)-\\psi(x) \\approx h\\psi'(x)$  \n",
    "Donc on choisit $h=\\frac{\\delta}{\\sqrt{1+\\psi'(x)^2}} \\leqslant \\delta$"
   ]
  },
  {
   "cell_type": "markdown",
   "metadata": {},
   "source": [
    "Remarques :  \n",
    "- On choisit $h>0$ pour tracer la ligne vers la droite, sachant qu'on initialise sur l'arête gauche de la cellule.  \n",
    "- La précision du tracé dépend de $\\delta$"
   ]
  },
  {
   "cell_type": "code",
   "execution_count": 5,
   "metadata": {},
   "outputs": [],
   "source": [
    "def grad_f(f, x, y) :\n",
    "    g = autograd.grad\n",
    "    return np.r_[g(f, 0)(x, y), g(f, 1)(x, y)]     # calcule le gradient de f en (x,y)\n",
    "    \n",
    "def psi_prime(f, x, y) :\n",
    "    T = grad_f(f, x, y)\n",
    "    return float(-T[0]/T[1]) #calcule la dérivée de la fonction implicite psi, donnée par le théorème des fonctions implicites."
   ]
  },
  {
   "cell_type": "code",
   "execution_count": 9,
   "metadata": {},
   "outputs": [],
   "source": [
    "def point_suivant(f, x, y, delta = 0.01) : \n",
    "    pp = psi_prime(f, x, y)\n",
    "    h = delta/np.sqrt(1 + pp**2)\n",
    "    return (float(x + h), float(y + h*pp)) \n",
    "# calcule le point suivant de la ligne de niveau à partir d'un point (x, psi(x)) donné grâce au procédé décrit ci-dessus"
   ]
  },
  {
   "cell_type": "markdown",
   "metadata": {},
   "source": [
    "On peut à présent tracer le fragment de ligne de niveau dans la cellule"
   ]
  },
  {
   "cell_type": "code",
   "execution_count": 10,
   "metadata": {},
   "outputs": [],
   "source": [
    "def simple_contour(f, c = 0.0, delta = 0.01) :\n",
    "    t = find_seed(f, c)\n",
    "    if t != None :\n",
    "        abscisse = [0.0]\n",
    "        ordonnee = [t]\n",
    "        while abscisse[-1] <= 1 and 0 <= ordonnee[-1] <= 1 :\n",
    "            x, y = point_suivant(f, abscisse[-1], ordonnee[-1])\n",
    "            abscisse.append(x)\n",
    "            ordonnee.append(y)\n",
    "        return abscisse, ordonnee\n",
    "    else :\n",
    "        return [], []"
   ]
  },
  {
   "cell_type": "code",
   "execution_count": 14,
   "metadata": {},
   "outputs": [
    {
     "data": {
      "text/plain": [
       "[<matplotlib.lines.Line2D at 0x28a56ebf470>]"
      ]
     },
     "execution_count": 14,
     "metadata": {},
     "output_type": "execute_result"
    },
    {
     "data": {
      "image/png": "[encoded data removed]",
      "text/plain": [
       "<Figure size 432x288 with 1 Axes>"
      ]
     },
     "metadata": {
      "needs_background": "light"
     },
     "output_type": "display_data"
    }
   ],
   "source": [
    "X, Y = simple_contour(h)\n",
    "plt.plot(X, Y)"
   ]
  },
  {
   "cell_type": "code",
   "execution_count": 13,
   "metadata": {},
   "outputs": [
    {
     "data": {
      "text/plain": [
       "[<matplotlib.lines.Line2D at 0x28a56e446a0>]"
      ]
     },
     "execution_count": 13,
     "metadata": {},
     "output_type": "execute_result"
    },
    {
     "data": {
      "image/png": "[encoded data removed]",
      "text/plain": [
       "<Figure size 432x288 with 1 Axes>"
      ]
     },
     "metadata": {
      "needs_background": "light"
     },
     "output_type": "display_data"
    }
   ],
   "source": [
    "X, Y = simple_contour(f)\n",
    "plt.plot(X, Y)"
   ]
  },
  {
   "cell_type": "markdown",
   "metadata": {},
   "source": [
    "Limites de cette méthode :\n",
    "Le tracé de la ligne de niveau ne peut être réalisé que si le théorème des fonctions implicites s'applique, ie si la ligne de niveau n'admet pas de point singulier."
   ]
  },
  {
   "cell_type": "markdown",
   "metadata": {},
   "source": [
    "#### Deuxième méthode"
   ]
  },
  {
   "cell_type": "markdown",
   "metadata": {},
   "source": [
    "A partir d'un point $(u,v)$ donné de la ligne de niveau $f(x,y) = c$, on construit le point suivant en se décalant sur la tangente de la ligne au point $(u,v)$,, orthogonale au gradient de la fonction étudiée en ce point, d'une distance $\\delta$. Cette approximation étant un peu grossière, on affine le résultat en se rapprochant du point suivant \"réel\" grâce à une méthode de Newton en deux dimension. i.e. on cherche à annuler $F$ où :  \n",
    "$F : \\begin{pmatrix} x \\\\ y \\end{pmatrix} \\mapsto \\begin{pmatrix} f(x,y)-c \\\\ \\sqrt{(x - u)^2 + (y - v)^2}-\\delta \\end{pmatrix}$  \n",
    "La suite donnée par :  \n",
    "$\\begin{pmatrix} x_{n+1} \\\\ y_{n+1} \\end{pmatrix} = \\begin{pmatrix} x_n \\\\ y_n \\end{pmatrix} + (J_F(x_n,y_n))^{-1} F(x_n,y_n)$,  \n",
    "où $J_F(x_n,y_n)$ désigne la matrice jacobienne de $F$ en $(x_n,y_n)$, converge vers le point de la ligne de niveau situé à une distance $\\delta$ de $(x,y)$."
   ]
  },
  {
   "cell_type": "code",
   "execution_count": 15,
   "metadata": {},
   "outputs": [],
   "source": [
    "def grad_f(f, x, y) :\n",
    "    g = autograd.grad\n",
    "    return np.r_[g(f, 0)(x, y), g(f, 1)(x, y)]  \n",
    "\n",
    "def tangente(f, x, y) :\n",
    "    T=grad_f(f, x, y)\n",
    "    a,b = T[0],T[1]\n",
    "    return np.array([b, -a])\n",
    "\n",
    "def F(f, x, y, xs, ys, c, delta) :\n",
    "    dx =xs-x\n",
    "    dy=ys-y\n",
    "    s=np.sqrt(dx**2 + dy**2)-delta\n",
    "    return np.array([f(xs, ys)-c, s])\n",
    "# F est la fonction qu'on cherche à annuler par méthode de Newton en 2D\n",
    "\n",
    "def J(f, x, y, xs, ys, c, delta) :\n",
    "    J = np.zeros(4)\n",
    "    J = J.reshape(2,2)\n",
    "    def F1(xs, ys) :\n",
    "        return F(f,x,y,xs,ys,c,delta)[0]\n",
    "    def F2(xs, ys) :\n",
    "        return F(f,x,y,xs,ys,c,delta)[1]\n",
    "    J[0] = grad_f(F1, xs, ys)\n",
    "    J[1] = grad_f(F2, xs, ys) \n",
    "    return(J) \n",
    "# calcul de la jacobienne de F en\n",
    "# nous n'avons pas réussi à faire fonctionner autograd.jacobian"
   ]
  },
  {
   "cell_type": "code",
   "execution_count": 20,
   "metadata": {},
   "outputs": [],
   "source": [
    "def point_suivant_deux(f, x ,y, c, delta, eps) :\n",
    "    T = tangente(f, x, y)\n",
    "    a, b = T[1], T[0]\n",
    "    if b < 0 :\n",
    "        a = -a\n",
    "        b = -b  # on veut tracer la ligne vers la droite en partant de l'arête de gauche\n",
    "    xs = x+b*delta/np.sqrt(a**2 + b**2)\n",
    "    ys = y +a*delta/np.sqrt(a**2 + b**2)\n",
    "    ecart = 1 + eps\n",
    "    while ecart > eps  :\n",
    "        if np.linalg.det(J(f,x,y,xs,ys,c,delta)) != 0 :\n",
    "            E = -np.dot(np.linalg.inv(J(f, x, y, xs, ys, c, delta)), F(f,x,y,xs,ys,c,delta).reshape(2, 1))\n",
    "            xs = xs + E[0]\n",
    "            ys = ys + E[1]\n",
    "            ecart = np.linalg.norm(E)\n",
    "        else :\n",
    "            break\n",
    "    return(xs, ys)"
   ]
  },
  {
   "cell_type": "markdown",
   "metadata": {},
   "source": [
    "Remarque :  \n",
    "La méthode de Newton ne peut fonctionner que si la jacobienne de la fonction $F$ définie plus haut est inversible. Dans le cas contraire, on arrête l'algorithme, quitte à avoir une moins bonne précision (on n'est pas sûr d'être exactement sur la ligne de niveau)."
   ]
  },
  {
   "cell_type": "code",
   "execution_count": 21,
   "metadata": {},
   "outputs": [],
   "source": [
    "def simple_contour_deux(f, c = 0.0, delta = 0.01, eps = 2**(-26)) :\n",
    "    t = find_seed(f, c)\n",
    "    if t != None :\n",
    "        abscisse = [0.0]\n",
    "        ordonnee = [t]\n",
    "        while abscisse[-1] <= 1 and 0 <= ordonnee[-1] <= 1 :\n",
    "            x, y = point_suivant_deux(f, abscisse[-1], ordonnee[-1], c, delta, eps)\n",
    "            abscisse.append(x)\n",
    "            ordonnee.append(y)\n",
    "        return abscisse, ordonnee\n",
    "    else :\n",
    "        return [], []\n",
    "    \n",
    "#tracé de la ligne de niveau avec la deuxième méthode"
   ]
  },
  {
   "cell_type": "code",
   "execution_count": 22,
   "metadata": {},
   "outputs": [
    {
     "data": {
      "text/plain": [
       "[<matplotlib.lines.Line2D at 0x28a5700d860>]"
      ]
     },
     "execution_count": 22,
     "metadata": {},
     "output_type": "execute_result"
    },
    {
     "data": {
      "image/png": "[encoded data removed]",
      "text/plain": [
       "<Figure size 432x288 with 1 Axes>"
      ]
     },
     "metadata": {
      "needs_background": "light"
     },
     "output_type": "display_data"
    }
   ],
   "source": [
    "X, Y = simple_contour_deux(f)\n",
    "plt.plot(X, Y)"
   ]
  },
  {
   "cell_type": "code",
   "execution_count": 23,
   "metadata": {},
   "outputs": [
    {
     "data": {
      "text/plain": [
       "[<matplotlib.lines.Line2D at 0x28a57085080>]"
      ]
     },
     "execution_count": 23,
     "metadata": {},
     "output_type": "execute_result"
    },
    {
     "data": {
      "image/png": "[encoded data removed]",
      "text/plain": [
       "<Figure size 432x288 with 1 Axes>"
      ]
     },
     "metadata": {
      "needs_background": "light"
     },
     "output_type": "display_data"
    }
   ],
   "source": [
    "X, Y = simple_contour_deux(h)\n",
    "plt.plot(X, Y)"
   ]
  },
  {
   "cell_type": "code",
   "execution_count": null,
   "metadata": {},
   "outputs": [],
   "source": []
  }
 ],
 "metadata": {
  "kernelspec": {
   "display_name": "Python 3",
   "language": "python",
   "name": "python3"
  },
  "language_info": {
   "codemirror_mode": {
    "name": "ipython",
    "version": 3
   },
   "file_extension": ".py",
   "mimetype": "text/x-python",
   "name": "python",
   "nbconvert_exporter": "python",
   "pygments_lexer": "ipython3",
   "version": "3.6.3"
  }
 },
 "nbformat": 4,
 "nbformat_minor": 2
}
