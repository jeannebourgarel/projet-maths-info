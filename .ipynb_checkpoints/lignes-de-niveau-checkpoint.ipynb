{
 "cells": [
  {
   "cell_type": "markdown",
   "metadata": {},
   "source": [
    "# Projet numérique : lignes de niveau"
   ]
  },
  {
   "cell_type": "code",
   "execution_count": 54,
   "metadata": {},
   "outputs": [],
   "source": [
    "import autograd\n",
    "import matplotlib.pyplot as plt\n",
    "from autograd import numpy as np"
   ]
  },
  {
   "cell_type": "code",
   "execution_count": 55,
   "metadata": {},
   "outputs": [],
   "source": [
    "def h(x, y) :\n",
    "    return (np.exp(-(x**2)-(y**2))-np.exp(-((x-1)**2)-((y-1)**2)))  \n",
    "# h est une fonction de deux variables réelles à valeurs réelles, continûment différentiable"
   ]
  },
  {
   "cell_type": "code",
   "execution_count": 56,
   "metadata": {},
   "outputs": [],
   "source": [
    "def f(x, y) :\n",
    "    return x**2 + y**2 - 0.5"
   ]
  },
  {
   "cell_type": "markdown",
   "metadata": {},
   "source": [
    "## Contour simple"
   ]
  },
  {
   "cell_type": "markdown",
   "metadata": {},
   "source": [
    "### Amorce"
   ]
  },
  {
   "cell_type": "markdown",
   "metadata": {},
   "source": [
    "$f$ est supposée continûment différentiable, donc continue sur $[0,1]^2$. Si $f(0,0) \\leqslant c \\leqslant f(0,1)$ ou $f(0,1) \\leqslant c \\leqslant f(0,0)$, alors d'après le théorème des valeurs intermédiairs on est certain que $\\exists  t \\in [0,1]$ tel que $f(0,t) = c$."
   ]
  },
  {
   "cell_type": "markdown",
   "metadata": {},
   "source": [
    "Pour déterminer un tel $t$, on utilise la méthode de la dichotomie."
   ]
  },
  {
   "cell_type": "markdown",
   "metadata": {},
   "source": [
    "##### Démonstration et principe de la dichotomie :"
   ]
  },
  {
   "cell_type": "markdown",
   "metadata": {},
   "source": [
    "L’objectif est de montrer que le processus décrit converge, et qu’il converge vers un point de la ligne de niveau.\n",
    "On se place dans le cas où $f(0,0)<=c<=f(0,1)$  \n",
    "On pose $a_{0}=0, b_{0}=1 c_{0}=\\frac{a_{0}+b_{0}}{2}$ et on va construire $(a_{n}), (b_{n})$ et $(c_{n}) \\in N^{N} /  \\forall n \\in N a_{n+1}=a_{n}$ et $b_{n+1}=c_{n}si f(0,c_{n})>c$ et l’inverse sinon et $c_{n+1}=\\frac{a_{n+1}+b_{n+1}}{2}$, car la continuité de f puis l’application du TVI assurent par cette construction que $\\forall n \\in N, \\exists a_{n}\\leq t_{n} \\leq b_{n} / f(0,t_{n})=c$.  \n",
    "De manière immédiate, si $\\exists n \\in N /f(0,c_{n})=c$ on sort de la boucle et on renvoi la valeur de $c_{n}$. Alors, l’algorithme termine et renvoie bien un point de la courbe de niveau.  \n",
    "Sinon, par récurrence immédiate on a $\\forall n \\in N, \\frac{a_{n}+b_{n}}{2} \\leq \\frac{1}{2^{n}}$.  \n",
    "Alors les suites $(a_{n})$ et $(b_{n})$ sont respectivement croissantes et décroissantes et la limite de leur différence est nulle en  $+\\infty$. Donc elles sont adjacentes et convergent vers une limite $l$. Ainsi, $(c_{n})$ ainsi que $(t_{n})$ convergent aussi vers $l$. Alors, la continuité de $f$ et la définition de $(t_{n})$ implique alors que $(f(0,c_{n})$ tend vers $c$ , et on va pouvoir approcher la valeur de $l$ quelque soit la précision donnée ce qui termine la preuve.\n",
    "Remarque : ici une boucle for de longueur 26 permet bien d’approcher cette limite $l$ à $10^{-26}$ près.\n"
   ]
  },
  {
   "cell_type": "code",
   "execution_count": 57,
   "metadata": {},
   "outputs": [],
   "source": [
    "def find_seed(f, c=0.0, eps = 2**(-26)) : # renvoie un flottant éloigné d'au plus eps d'un tel t ou None si la condition ci-dessus n'est pas satisfaite\n",
    "    # recherche dichotomique\n",
    "    if f(0, 0) <= c <= f(0, 1) or f(0,1) <= c <= f(0, 0) :\n",
    "        a = 0\n",
    "        b = 1\n",
    "        for n in range(26) :\n",
    "            m = (a + b)/2\n",
    "            if f(0, a) <= c <= f(0, b) :\n",
    "                if f(0,m) > c :\n",
    "                    b = m\n",
    "                elif f(0, m) == c :\n",
    "                    return m\n",
    "                else :\n",
    "                    a = m\n",
    "            else :\n",
    "                if f(0,m) > c :\n",
    "                    a = m\n",
    "                elif f(0, m) == c :\n",
    "                    return m\n",
    "                else :\n",
    "                    b = m\n",
    "        return m\n",
    "    else :\n",
    "        return None"
   ]
  },
  {
   "cell_type": "markdown",
   "metadata": {},
   "source": [
    "### Propagation"
   ]
  },
  {
   "cell_type": "markdown",
   "metadata": {},
   "source": [
    "#### Première méthode"
   ]
  },
  {
   "cell_type": "markdown",
   "metadata": {},
   "source": [
    "On suppose en plus des hypothèses précédentes que la fonction $f$ dont on veut tracer les lignes de niveau vérifie les hypothèses du théorème des fonctions implicites, c'est-à-dire dans ce cas que la dérivée partielle de $f$ par rapport à la deuxième variable est inversible sur tout le domaine étudié.\n",
    "Il existe alors une fonction $\\psi$ telle que $f(x,y) = c \\Leftrightarrow y = \\psi(x)$\n",
    "Autrement dit, tracer la ligne de niveau $f(x, y) = c$, c'est tracer le graphe de $\\psi$."
   ]
  },
  {
   "cell_type": "markdown",
   "metadata": {},
   "source": [
    "Si on connaît le point $(x, \\psi(x))$, on veut obtenir le point suivant $(x+h, \\psi(x+h))$.\n",
    "A l'ordre 1, on a $\\psi(x+h) = \\psi(x) + h\\psi'(x) + o(h)$  \n",
    "où d'après le théorème des fonctions implicites $\\psi'(x) = -\\frac{\\frac{\\partial f}{\\partial x}(x, \\psi(x))}{\\frac{\\partial f}{\\partial y}(x, \\psi(x))}$"
   ]
  },
  {
   "cell_type": "markdown",
   "metadata": {},
   "source": [
    "De plus, la distance entre $(x,\\psi(x))$ et $(x+h,\\psi(x+h))$ doit être de l'ordre de $\\delta$.  \n",
    "Autrement dit $\\sqrt{h^2 +(\\psi(x+h) - \\psi(x))^2}=\\delta$  \n",
    "Or $\\psi(x+h)-\\psi(x) \\approx h\\psi'(x)$  \n",
    "Donc on choisit $h=\\frac{\\delta}{\\sqrt{1+\\psi'(x)^2}} \\leqslant \\delta$, $h$ est inférieur à $\\delta$, ce qui valide l’approximation au 1er ordre du développement de Taylor pour $\\psi$."
   ]
  },
  {
   "cell_type": "markdown",
   "metadata": {},
   "source": [
    "Remarques :  \n",
    "- On choisit $h>0$ pour tracer la ligne vers la droite, sachant qu'on initialise sur l'arête gauche de la cellule.  \n",
    "- La précision du tracé dépend de $\\delta$"
   ]
  },
  {
   "cell_type": "code",
   "execution_count": 58,
   "metadata": {},
   "outputs": [],
   "source": [
    "def grad_f(f, x, y) :\n",
    "    g = autograd.grad\n",
    "    return np.r_[g(f, 0)(x, y), g(f, 1)(x, y)]     # calcule le gradient de f en (x,y)\n",
    "    \n",
    "def psi_prime(f, x, y) :\n",
    "    T = grad_f(f, x, y)\n",
    "    return float(-T[0]/T[1]) #calcule la dérivée de la fonction implicite psi, donnée par le théorème des fonctions implicites."
   ]
  },
  {
   "cell_type": "code",
   "execution_count": 59,
   "metadata": {},
   "outputs": [],
   "source": [
    "def point_suivant(f, x, y, delta = 0.01) : \n",
    "    pp = psi_prime(f, x, y)\n",
    "    h = delta/np.sqrt(1 + pp**2)\n",
    "    return (float(x + h), float(y + h*pp)) \n",
    " #A chaque étape, on calcule à partir de la donnée de psi prime les coordonnées du point suivant dans le sens des x croissants sur la ligne de niveau\n",
    "#avec l'approximation f(x+h)=f(x)=f'(x)*h pour h petit"
   ]
  },
  {
   "cell_type": "markdown",
   "metadata": {},
   "source": [
    "On peut à présent tracer le fragment de ligne de niveau dans la cellule"
   ]
  },
  {
   "cell_type": "code",
   "execution_count": 60,
   "metadata": {},
   "outputs": [],
   "source": [
    "def simple_contour(f, c = 0.0, delta = 0.01) :\n",
    "    t = find_seed(f, c)\n",
    "    if t != None :\n",
    "        abscisse = [0.0]\n",
    "        ordonnee = [t]\n",
    "        while abscisse[-1] <= 1 and 0 <= ordonnee[-1] <= 1 :\n",
    "            x, y = point_suivant(f, abscisse[-1], ordonnee[-1])\n",
    "            abscisse.append(x)\n",
    "            ordonnee.append(y)\n",
    "        return abscisse, ordonnee\n",
    "    else :\n",
    "        return [], []"
   ]
  },
  {
   "cell_type": "code",
   "execution_count": 61,
   "metadata": {},
   "outputs": [
    {
     "data": {
      "text/plain": [
       "[<matplotlib.lines.Line2D at 0x2163a27afd0>]"
      ]
     },
     "execution_count": 61,
     "metadata": {},
     "output_type": "execute_result"
    },
    {
     "data": {
      "image/png": "[encoded data removed]",
      "text/plain": [
       "<Figure size 432x288 with 1 Axes>"
      ]
     },
     "metadata": {
      "needs_background": "light"
     },
     "output_type": "display_data"
    }
   ],
   "source": [
    "X, Y = simple_contour(h)\n",
    "plt.plot(X, Y)"
   ]
  },
  {
   "cell_type": "code",
   "execution_count": 62,
   "metadata": {},
   "outputs": [
    {
     "data": {
      "text/plain": [
       "[<matplotlib.lines.Line2D at 0x2163a6de2b0>]"
      ]
     },
     "execution_count": 62,
     "metadata": {},
     "output_type": "execute_result"
    },
    {
     "data": {
      "image/png": "[encoded data removed]",
      "text/plain": [
       "<Figure size 432x288 with 1 Axes>"
      ]
     },
     "metadata": {
      "needs_background": "light"
     },
     "output_type": "display_data"
    }
   ],
   "source": [
    "X, Y = simple_contour(f)\n",
    "plt.plot(X, Y)"
   ]
  },
  {
   "cell_type": "markdown",
   "metadata": {},
   "source": [
    "Limites de cette méthode :  \n",
    "Le tracé de la ligne de niveau ne peut être réalisé que si le théorème des fonctions implicites s'applique, ie si la ligne de niveau n'admet pas de tangente verticale."
   ]
  },
  {
   "cell_type": "markdown",
   "metadata": {},
   "source": [
    "Dans le cas contraire, on peut faire plusieurs remarques. Tout d’abord, il y a fort peu de chances qu’informatiquement, on tombe sur une valeur qui soit précisément égale à 0. Si cela devait malgré tout arriver, on propose d'améliorer l'algorithme en effectuant les modifications suivantes : si au point $(x,y)$ la courbe admet une tangente verticale, on approxime le point suivant au point $(x, y \\pm \\epsilon)$ (on fait comme si la courbe était verticale entre $(x,y)$ et $(x, y \\pm \\epsilon)$).  \n",
    "Ces modifications figurent dans la partie \"contour complexe\"."
   ]
  },
  {
   "cell_type": "markdown",
   "metadata": {},
   "source": [
    "#### Deuxième méthode"
   ]
  },
  {
   "cell_type": "markdown",
   "metadata": {},
   "source": [
    "A partir d'un point $(u,v)$ donné de la ligne de niveau $f(x,y) = c$, on construit le point suivant en se décalant sur la tangente de la ligne au point $(u,v)$,, orthogonale au gradient de la fonction étudiée en ce point, d'une distance $\\delta$. Cette approximation étant un peu grossière, on affine le résultat en se rapprochant du point suivant \"réel\" grâce à une méthode de Newton en deux dimension. i.e. on cherche à annuler $F$ où :\n",
    "  \n",
    "$F : \\begin{pmatrix} x \\\\ y \\end{pmatrix} \\mapsto \\begin{pmatrix} f(x,y)-c \\\\ \\sqrt{(x - u)^2 + (y - v)^2}-\\delta \\end{pmatrix}$  \n",
    "  \n",
    "La suite donnée par :  \n",
    "  \n",
    "$\\begin{pmatrix} x_{n+1} \\\\ y_{n+1} \\end{pmatrix} = \\begin{pmatrix} x_n \\\\ y_n \\end{pmatrix} + (J_F(x_n,y_n))^{-1} F(x_n,y_n)$,  \n",
    "  \n",
    "où $J_F(x_n,y_n)$ désigne la matrice jacobienne de $F$ en $(x_n,y_n)$, converge vers le point de la ligne de niveau situé à une distance $\\delta$ de $(x,y)$."
   ]
  },
  {
   "cell_type": "code",
   "execution_count": 63,
   "metadata": {},
   "outputs": [],
   "source": [
    "def grad_f(f, x, y) :\n",
    "    g = autograd.grad\n",
    "    return np.r_[g(f, 0)(x, y), g(f, 1)(x, y)]  \n",
    "\n",
    "def tangente(f, x, y) : # la tangente est orthogonale au gradient\n",
    "    T=grad_f(f, x, y)\n",
    "    a,b = T[0],T[1]\n",
    "    return np.array([b, -a])\n",
    "\n",
    "def F(f, x, y, xs, ys, c, delta) :\n",
    "    dx =xs-x\n",
    "    dy=ys-y\n",
    "    s=np.sqrt(dx**2 + dy**2)-delta\n",
    "    return np.array([f(xs, ys)-c, s])\n",
    "# F est la fonction qu'on cherche à annuler par méthode de Newton en 2D\n",
    "\n",
    "def J(f, x, y, xs, ys, c, delta) :\n",
    "    J = np.zeros(4)\n",
    "    J = J.reshape(2,2)\n",
    "    def F1(xs, ys) :\n",
    "        return F(f,x,y,xs,ys,c,delta)[0]\n",
    "    def F2(xs, ys) :\n",
    "        return F(f,x,y,xs,ys,c,delta)[1]\n",
    "    J[0] = grad_f(F1, xs, ys)\n",
    "    J[1] = grad_f(F2, xs, ys) \n",
    "    return(J) \n",
    "# calcul de la jacobienne de F en\n",
    "# nous n'avons pas réussi à faire fonctionner autograd.jacobian"
   ]
  },
  {
   "cell_type": "code",
   "execution_count": 64,
   "metadata": {},
   "outputs": [],
   "source": [
    "def point_suivant_deux(f, x ,y, c, delta, eps) :\n",
    "    T = tangente(f, x, y)\n",
    "    a, b = T[1], T[0]\n",
    "    if b < 0 :\n",
    "        a = -a\n",
    "        b = -b  # on veut tracer la ligne vers la droite en partant de l'arête de gauche\n",
    "    xs = x+b*delta/np.sqrt(a**2 + b**2)\n",
    "    ys = y +a*delta/np.sqrt(a**2 + b**2)\n",
    "    ecart = 1 + eps\n",
    "    while ecart > eps  :\n",
    "        if np.linalg.det(J(f,x,y,xs,ys,c,delta)) != 0 :\n",
    "            E = -np.dot(np.linalg.inv(J(f, x, y, xs, ys, c, delta)), F(f,x,y,xs,ys,c,delta).reshape(2, 1))\n",
    "            xs = xs + E[0]\n",
    "            ys = ys + E[1]\n",
    "            ecart = np.linalg.norm(E)\n",
    "        else :\n",
    "            break\n",
    "    return(xs, ys)"
   ]
  },
  {
   "cell_type": "markdown",
   "metadata": {},
   "source": [
    "Remarques :  \n",
    "La méthode de Newton ne peut fonctionner que si la jacobienne de la fonction $F$ définie plus haut est inversible. Dans le cas contraire, on arrête l'algorithme, quitte à avoir une moins bonne précision.\n",
    "De plus, pour que la tangente existe, il faut que le gradient de $f$ soit non nul, ce cas n'est pas traité par notre algorithme."
   ]
  },
  {
   "cell_type": "code",
   "execution_count": 65,
   "metadata": {},
   "outputs": [],
   "source": [
    "def simple_contour_deux(f, c = 0.0, delta = 0.01, eps = 2**(-26)) :\n",
    "    t = find_seed(f, c)\n",
    "    if t != None :\n",
    "        abscisse = [0.0]\n",
    "        ordonnee = [t]\n",
    "        while abscisse[-1] <= 1 and 0 <= ordonnee[-1] <= 1 :\n",
    "            x, y = point_suivant_deux(f, abscisse[-1], ordonnee[-1], c, delta, eps)\n",
    "            abscisse.append(x)\n",
    "            ordonnee.append(y)\n",
    "        return abscisse, ordonnee\n",
    "    else :\n",
    "        return [], []\n",
    "    \n",
    "#tracé de la ligne de niveau avec la deuxième méthode"
   ]
  },
  {
   "cell_type": "code",
   "execution_count": 66,
   "metadata": {},
   "outputs": [
    {
     "data": {
      "text/plain": [
       "[<matplotlib.lines.Line2D at 0x2163a6170b8>]"
      ]
     },
     "execution_count": 66,
     "metadata": {},
     "output_type": "execute_result"
    },
    {
     "data": {
      "image/png": "[encoded data removed]",
      "text/plain": [
       "<Figure size 432x288 with 1 Axes>"
      ]
     },
     "metadata": {
      "needs_background": "light"
     },
     "output_type": "display_data"
    }
   ],
   "source": [
    "X, Y = simple_contour_deux(f)\n",
    "plt.plot(X, Y)"
   ]
  },
  {
   "cell_type": "code",
   "execution_count": 67,
   "metadata": {},
   "outputs": [
    {
     "data": {
      "text/plain": [
       "[<matplotlib.lines.Line2D at 0x2163a528208>]"
      ]
     },
     "execution_count": 67,
     "metadata": {},
     "output_type": "execute_result"
    },
    {
     "data": {
      "image/png": "[encoded data removed]",
      "text/plain": [
       "<Figure size 432x288 with 1 Axes>"
      ]
     },
     "metadata": {
      "needs_background": "light"
     },
     "output_type": "display_data"
    }
   ],
   "source": [
    "X, Y = simple_contour_deux(h)\n",
    "plt.plot(X, Y)"
   ]
  },
  {
   "cell_type": "markdown",
   "metadata": {},
   "source": [
    "## Contour complexe"
   ]
  },
  {
   "cell_type": "markdown",
   "metadata": {},
   "source": [
    "### Amorce"
   ]
  },
  {
   "cell_type": "code",
   "execution_count": 68,
   "metadata": {},
   "outputs": [],
   "source": [
    "def find_seed_complexe(f,s,t,u,v,c=0.0, eps=2**-26):\n",
    "    #ici, on réalise une recherche dichotomique comme pour find_seed, sauf que celle-ci s'effectue sur un segment quelconque, déterminé par les points de coordonnées (s,u) et (t,v) où s<=t et u<=v\n",
    "    if min(f(s,u),f(t,v)) <= c <= max(f(s,u),f(t,v)):\n",
    "        if s==t: #si l'on est sur une arête verticale\n",
    "            y1=u\n",
    "            y2=v\n",
    "            m=(y1+y2)/2\n",
    "            while abs(f(s,m)-c)>eps:\n",
    "                if f(s,u)<=c<=f(t,v):\n",
    "                    if f(s,m)<c:\n",
    "                        y1=m\n",
    "                    else:\n",
    "                        y2=m\n",
    "                    m=(y1+y2)/2\n",
    "                else:\n",
    "                    if f(s,m)<c:\n",
    "                        y2=m\n",
    "                    else:\n",
    "                        y1=m\n",
    "                    m=(y1+y2)/2\n",
    "            return (s,m)\n",
    "        else: #si l'on est sur une arête horizontale\n",
    "            x1=s\n",
    "            x2=t\n",
    "            m=(x1+x2)/2\n",
    "            while abs(f(m,u)-c)>eps:\n",
    "                if f(s,u)<=c<=f(t,v):\n",
    "                    if f(m,u)<c:\n",
    "                        x1=m\n",
    "                    else:\n",
    "                        x2=m\n",
    "                    m=(x1+x2)/2\n",
    "                else:\n",
    "                    if f(m,u)<c:\n",
    "                        x2=m\n",
    "                    else:\n",
    "                        x1=m\n",
    "                    m=(x1+x2)/2   \n",
    "            return (m,u)\n",
    "    else:\n",
    "        return None"
   ]
  },
  {
   "cell_type": "markdown",
   "metadata": {},
   "source": [
    "### Modifications et amélioration de la première méthode (tracé du graphe de la fonction implicite)"
   ]
  },
  {
   "cell_type": "code",
   "execution_count": 69,
   "metadata": {},
   "outputs": [],
   "source": [
    "def psi_prime_2(f, x, y) :\n",
    "    T = grad_f(f, x, y)\n",
    "    if T[1] != 0 :\n",
    "        return float(-T[0]/T[1])\n",
    "    else :\n",
    "        return None #renvoie None si le théorème des fonctions implicites ne s'applique pas (tangente verticale)"
   ]
  },
  {
   "cell_type": "code",
   "execution_count": 70,
   "metadata": {},
   "outputs": [],
   "source": [
    "def point_suivant_droite(f, x, y, delta = 0.01) : \n",
    " #A chaque étape, on calcule à partir de la donnée de psi prime les coordonnées du point suivant dans le sens des x croissants sur la ligne de niveau, avec l'approximation f(x+h)=f(x)=f'(x)*h pour h petit\n",
    "    pp = psi_prime_2(f, x, y)\n",
    "    if pp != None :  #tangente verticale qui ne permet pas le calcul de psi_prime\n",
    "        h = delta/np.sqrt(1 + pp**2)\n",
    "        return (float(x + h), float(y + h*pp))\n",
    "    else :\n",
    "        return (x, None)\n",
    "    \n",
    "def point_suivant_gauche(f, x, y, delta = 0.01) :\n",
    "    #De même pour le point suivant dans le sens des x décroissants\n",
    "    pp = psi_prime_2(f, x, y)\n",
    "    if pp != None :  #tangente verticale\n",
    "        h = -delta/np.sqrt(1 + pp**2)\n",
    "        return (float(x + h), float(y + h*pp))\n",
    "    else :\n",
    "        return(x, None)"
   ]
  },
  {
   "cell_type": "markdown",
   "metadata": {},
   "source": [
    "On définit ici point_suivant_gauche parce qu'il est possible (contrairement au cas précédent où on cherchait une amorce sur l'aête de gauche de la cellule) qu'on ait besoin de tracer la courbe dans le sens des $x$ décoissants, par exemple dans le cas où le point de départ donné par find_seed_complexe se trouve sur l'arête de droite de la cellule."
   ]
  },
  {
   "cell_type": "markdown",
   "metadata": {},
   "source": [
    "### Contour complexe"
   ]
  },
  {
   "cell_type": "code",
   "execution_count": 71,
   "metadata": {},
   "outputs": [],
   "source": [
    "def simple_contour_final(f,i,j,xc,yc,c,delta) :  #tracé de la ligne de niveau dans la cellule (i,j)\n",
    "    carre_a_visiter=[(xc[i],xc[i],yc[j],yc[j+1]),(xc[i],xc[i+1],yc[j+1],yc[j+1]),(xc[i+1],xc[i+1],yc[j],yc[j+1]), (xc[i],xc[i+1],yc[j],yc[j])]  #quadruplets qui caractérisent chaque arête d'une cellule\n",
    "    while carre_a_visiter != [] :#tant qu'il reste une arête à traiter, on cherche s'il existe dessus une racine et on cherche pas à pas le point suivant de la ligne de niveau\n",
    "        (s,t,u,v) = carre_a_visiter.pop(0)\n",
    "        if find_seed_complexe(f, s, t, u, v, c) != None :\n",
    "            x,y = find_seed_complexe(f,s,t,u,v,c)\n",
    "            abscisse=[x]\n",
    "            ordonnee=[y]\n",
    "            while xc[i]<=abscisse[-1]<=xc[i+1] and yc[j]<=ordonnee[-1]<=yc[j+1] :\n",
    "                x, y = point_suivant_droite(f, abscisse[-1], ordonnee[-1])#on commence par chercher les points suivants dans le sens des x croissants\n",
    "                abscisse.append(x)\n",
    "                if y != None : #si l'on n'est pas dans le cas d'une tangente verticale, on ajoute y à ordonnee\n",
    "                    ordonnee.append(y)\n",
    "                else : \n",
    "                    y = ordonnee[-1] #on reste où on est \n",
    "                    if len(ordonnee) == 1 : # la pente verticale se trouve sur l'arête\n",
    "                        if y == yc[j+1] :\n",
    "                            ordonnee.append(y-delta*(2**(-26))) #on descend à la verticale pour rester dans la cellule\n",
    "                        else :\n",
    "                            ordonnee.append(y+delta*(2**(-26))) # on monte à la verticale pour rester dans la cellule\n",
    "                    else :\n",
    "                        yp = abscisse[-2]\n",
    "                        # on suppose que les points sont suffisamment proches les uns des autres pour que la dérivée n'ait pas changée de signe entre les deux derniers points\n",
    "                        if yp - y > 0 : # la ligne de niveau descend\n",
    "                            ordonnee.append(y-delta*(2**(-26)))\n",
    "                        else : # la ligne de niveau monte\n",
    "                            ordonnee.append(y+delta*(2**(-26)))\n",
    "            if len(abscisse) == 2 : # dans le cas où l'on était sur l'arête de droite, il ne faut pas chercher les points suivants dans le sens des x croissants mais décroissants\n",
    "                abscisse.pop()\n",
    "                ordonnee.pop()\n",
    "                while xc[i]<=abscisse[-1]<=xc[i+1] and yc[j]<=ordonnee[-1]<=yc[j+1] :\n",
    "                    x, y = point_suivant_gauche(f, abscisse[-1], ordonnee[-1])\n",
    "                    abscisse.append(x)\n",
    "                    if y != None :\n",
    "                        ordonnee.append(y)\n",
    "                    else :\n",
    "                        y = ordonnee[-1]\n",
    "                        if len(ordonnee) == 1 :\n",
    "                            if y == yc[j+1] :\n",
    "                                ordonnee.append(y-delta*(2**(-26)))\n",
    "                            else :\n",
    "                                ordonnee.append(y+delta*(2**(-26)))\n",
    "                        else :\n",
    "                            yp = abscisse[-2]\n",
    "                            if yp - y > 0 :\n",
    "                                ordonnee.append(y-delta*(2**(-26)))\n",
    "                            else :\n",
    "                                ordonnee.append(y+delta*(2**(-26)))\n",
    "            return abscisse, ordonnee\n",
    "    return [],[]"
   ]
  },
  {
   "cell_type": "code",
   "execution_count": 72,
   "metadata": {},
   "outputs": [],
   "source": [
    "def contour(f, c=0.0, xc=[(i*0.1) -1.0 for i in range(21)], yc=[(i*0.1) -1.0 for i in range(21)], delta=0.01) :\n",
    "    xs=[]\n",
    "    ys=[]\n",
    "    for i in range(len(xc)-1):\n",
    "        for j in range (len(yc)-1) :# on parcourt chacune des cases (i,j) et on construit la section de contour correspondante\n",
    "            fragment_x, fragment_y = simple_contour_final(f, i,j,xc,yc,c,delta)\n",
    "            xs.append(fragment_x)\n",
    "            ys.append(fragment_y)\n",
    "    return xs, ys"
   ]
  },
  {
   "cell_type": "code",
   "execution_count": 73,
   "metadata": {},
   "outputs": [
    {
     "data": {
      "image/png": "[encoded data removed]",
      "text/plain": [
       "<Figure size 432x288 with 1 Axes>"
      ]
     },
     "metadata": {
      "needs_background": "light"
     },
     "output_type": "display_data"
    }
   ],
   "source": [
    "xs,ys = contour(f)\n",
    "for x, y in zip(xs, ys) :\n",
    "    plt.plot(x,y)"
   ]
  },
  {
   "cell_type": "code",
   "execution_count": 74,
   "metadata": {},
   "outputs": [
    {
     "data": {
      "image/png": "[encoded data removed]",
      "text/plain": [
       "<Figure size 432x288 with 1 Axes>"
      ]
     },
     "metadata": {
      "needs_background": "light"
     },
     "output_type": "display_data"
    }
   ],
   "source": [
    "xs,ys = contour(h)\n",
    "for x, y in zip(xs, ys) :\n",
    "    plt.plot(x,y)"
   ]
  },
  {
   "cell_type": "markdown",
   "metadata": {},
   "source": [
    "Remarque : la fonction contor complexe définie ici ne peut pas gérer les \"demi-tours\" de la ligne de niveau, sauf ci ceux-ci ont lieu pile sur l'arête d'une cellule (commme c'est la cas dans l'exemple) : en effet par défaut, on trace toujours la courbe dans le sens des x croissants, sauf si la courbe \"part\" vers les x décroissants dès l'amorce (sur une arête). On peut espérer qu'en chosissant des tailles de cellules suffisamment petites, on réduise la taille de la zone \"probématique\"; mais on ne pourra pas supprimer totalement ce problème, lié au fait que le théorème des fonctions implicites ne s'applique pas au voisinage du \"demi-tour\"."
   ]
  },
  {
   "cell_type": "code",
   "execution_count": 75,
   "metadata": {},
   "outputs": [],
   "source": [
    "def simple_contour_final_deux(f, i, j , xc, yc, c , delta):\n",
    "    carre_a_visiter=[(xc[i],xc[i],yc[j],yc[j+1]),(xc[i],xc[i+1],yc[j+1],yc[j+1]),(xc[i+1],xc[i+1],yc[j],yc[j+1]), (xc[i],xc[i+1],yc[j],yc[j])]  #quadruplets qui caractérisent chaque arête d'une cellule\n",
    "    while carre_a_visiter != [] :#tant qu'il reste une arête à traiter, on cherche s'il existe dessus une racine et on cherche pas à pas le point suivant de la ligne de niveau\n",
    "        (s,t,u,v) = carre_a_visiter.pop(0)\n",
    "        if find_seed_complexe(f, s, t, u, v, c) != None :\n",
    "            x,y = find_seed_complexe(f,s,t,u,v,c)\n",
    "            abscisse=[x]\n",
    "            ordonnee=[y]\n",
    "            while xc[i]<=abscisse[-1]<=xc[i+1] and yc[j]<=ordonnee[-1]<=yc[j+1] :\n",
    "                x, y = point_suivant_deux(f, abscisse[-1], ordonnee[-1], c, delta, 2**(-26)) #on commence par chercher les points suivants dans le sens des x croissants\n",
    "                abscisse.append(x)\n",
    "                ordonnee.append(y)\n",
    "            return abscisse, ordonnee\n",
    "    return [], []   "
   ]
  },
  {
   "cell_type": "code",
   "execution_count": 76,
   "metadata": {},
   "outputs": [],
   "source": [
    "def contour_deux(f, c=0.0, xc=[(i*0.1) -1.0 for i in range(21)], yc=[(i*0.1) -1.0 for i in range(21)], delta=0.01) :\n",
    "    xs=[]\n",
    "    ys=[]\n",
    "    for i in range(len(xc)-1):\n",
    "        for j in range (len(yc)-1) :# on parcourt chacune des cases (i,j) et on construit la section de contour correspondante\n",
    "            fragment_x, fragment_y = simple_contour_final_deux(f, i,j,xc,yc,c,delta)\n",
    "            xs.append(fragment_x)\n",
    "            ys.append(fragment_y)\n",
    "    return xs, ys"
   ]
  },
  {
   "cell_type": "code",
   "execution_count": 77,
   "metadata": {},
   "outputs": [
    {
     "data": {
      "image/png": "[encoded data removed]",
      "text/plain": [
       "<Figure size 432x288 with 1 Axes>"
      ]
     },
     "metadata": {
      "needs_background": "light"
     },
     "output_type": "display_data"
    }
   ],
   "source": [
    "xs,ys = contour_deux(f)\n",
    "for x, y in zip(xs, ys) :\n",
    "    plt.plot(x,y)"
   ]
  },
  {
   "cell_type": "markdown",
   "metadata": {},
   "source": [
    "Nous n'avons pas eu le temps de comprendre pourquoi il y a des \"trous\" dans ce tracé de ligne de niveau.  \n",
    "Comme précédemment, l'algorithme point_suivant_deux recherche le point suivant vers la droite , il faudrait adapter à nouveau l'algorithme. "
   ]
  },
  {
   "cell_type": "code",
   "execution_count": 78,
   "metadata": {},
   "outputs": [
    {
     "data": {
      "image/png": "[encoded data removed]",
      "text/plain": [
       "<Figure size 432x288 with 1 Axes>"
      ]
     },
     "metadata": {
      "needs_background": "light"
     },
     "output_type": "display_data"
    }
   ],
   "source": [
    "xs,ys = contour_deux(h)\n",
    "for x, y in zip(xs, ys) :\n",
    "    plt.plot(x,y)"
   ]
  }
 ],
 "metadata": {
  "kernelspec": {
   "display_name": "Python 3",
   "language": "python",
   "name": "python3"
  },
  "language_info": {
   "codemirror_mode": {
    "name": "ipython",
    "version": 3
   },
   "file_extension": ".py",
   "mimetype": "text/x-python",
   "name": "python",
   "nbconvert_exporter": "python",
   "pygments_lexer": "ipython3",
   "version": "3.6.3"
  }
 },
 "nbformat": 4,
 "nbformat_minor": 2
}
